{
 "cells": [
  {
   "cell_type": "markdown",
   "metadata": {},
   "source": [
    "# Quickstart\n",
    "There are two basic ways to use spindler.\n",
    "\n",
    "- Compute the evolution of a binary system\n",
    "- Provide the derivatives of the orbital parameters, which can then be used by another package to compute the evolution separately."
   ]
  },
  {
   "cell_type": "code",
   "execution_count": null,
   "metadata": {},
   "outputs": [],
   "source": [
    "import numpy as np\n",
    "import matplotlib.pyplot as plt\n",
    "\n",
    "plt.style.use('seaborn-v0_8-darkgrid')\n",
    "plt.rcParams[\"mathtext.fontset\"]=\"stix\"\n",
    "plt.rcParams[\"font.family\"]=\"STIXGeneral\"\n",
    "plt.rcParams[\"font.size\"]=18"
   ]
  },
  {
   "cell_type": "markdown",
   "metadata": {},
   "source": [
    "### Computing the evolution\n",
    "Compute the evolution of a binary system interacting with a circumbinary disk with the `evolve` method."
   ]
  },
  {
   "cell_type": "code",
   "execution_count": null,
   "metadata": {},
   "outputs": [],
   "source": [
    "from spindler.solver import Solver_Siwek23, Solver_DD21, Solver_Zrake21"
   ]
  },
  {
   "cell_type": "code",
   "execution_count": null,
   "metadata": {},
   "outputs": [],
   "source": [
    "# Define the initial conditions\n",
    "q0 = 0.7 # initial mass ratio\n",
    "e0 = 0.1 # initial eccentricity\n",
    "\n",
    "# Define the mass that will be accreted from the disk\n",
    "# in units of the initial mass of the binary.\n",
    "accreted_mass = 0.4 # 40% of the initial mass\n",
    " \n",
    "# Compute the evolution\n",
    "a, q, e, m = Solver_Siwek23().evolve(accreted_mass, q0, e0)"
   ]
  },
  {
   "cell_type": "code",
   "execution_count": null,
   "metadata": {},
   "outputs": [],
   "source": [
    "fig, ax = plt.subplots()\n",
    "ax.plot(m,q, label=\"$q$\")\n",
    "ax.plot(m,e, label=\"$e$\")\n",
    "ax.plot(m,a, label=\"$a/a_0$\")\n",
    "ax.set_xlabel(\"$m/m_0$\")\n",
    "ax.legend()\n",
    "plt.show()"
   ]
  },
  {
   "cell_type": "markdown",
   "metadata": {},
   "source": [
    "The code would be analogous when using `Solver_DD21` or `Solver_Zrake21`, except that they only support `q0=1`.\n",
    "\n",
    "`evolve` accepts any keyword argument that is accepted by `scipy.integrate.solve_ivp`.\n",
    "For instance, you can pass the argument `t_eval` that defines at which values of `m` you want the solution to be calculated"
   ]
  },
  {
   "cell_type": "code",
   "execution_count": null,
   "metadata": {},
   "outputs": [],
   "source": [
    "# Evaluate the solution only at these points\n",
    "m_eval = np.linspace(1, 1+accreted_mass, 20)\n",
    "a,q,e,m = Solver_Siwek23().evolve(accreted_mass, q0, e0, t_eval=m_eval)"
   ]
  },
  {
   "cell_type": "code",
   "execution_count": null,
   "metadata": {},
   "outputs": [],
   "source": [
    "fig, ax = plt.subplots()\n",
    "ax.scatter(m,q, label=\"$q$\")\n",
    "ax.scatter(m,e, label=\"$e$\")\n",
    "ax.scatter(m,a, label=\"$a/a_0$\")\n",
    "ax.set_xlabel(\"$m/m_0$\")\n",
    "ax.legend()\n",
    "plt.show()"
   ]
  },
  {
   "cell_type": "markdown",
   "metadata": {},
   "source": [
    "### Computing the derivatives of the orbital parameters\n",
    "The derivatives are expressed in logaritmic form i.e., the derivative of the quantity $X$ will be given as\n",
    "$$\\frac{d \\log X}{d\\log m},$$\n",
    "\n",
    "where $m$ is the mass of the binary (the sum of the two components).\n",
    "\n",
    "Spindler can compute the derivatives of the following quantities:\n",
    "- eccentricity $e$\n",
    "- mass ratio $q$\n",
    "- semimajor axis $a$\n",
    "- orbital energy $E$\n",
    "- orbital angular momentum $J$\n",
    "\n",
    "The derivatives can be accessed with the methods `get_De`, `get_Dq`, `get_De`, `get_DE`, and `get_DJ`."
   ]
  },
  {
   "cell_type": "code",
   "execution_count": null,
   "metadata": {},
   "outputs": [],
   "source": [
    "solver = Solver_Siwek23()\n",
    "q_array = np.linspace(0.1,1,100)\n",
    "e_array = np.linspace(0,0.8,100)\n",
    "q,e = np.meshgrid(q_array,e_array)\n",
    "\n",
    "# Compute the derivatives\n",
    "De = solver.get_De(q,e)\n",
    "Dq = solver.get_Dq(q,e)\n",
    "Da = solver.get_Da(q,e)\n",
    "DE = solver.get_DE(q,e)\n",
    "DJ = solver.get_DJ(q,e)"
   ]
  },
  {
   "cell_type": "code",
   "execution_count": null,
   "metadata": {},
   "outputs": [],
   "source": [
    "fig, axs = plt.subplots(2,3,sharex=True, sharey=True)\n",
    "fig.subplots_adjust(wspace=0)\n",
    "cmap = \"inferno\"\n",
    "axs[0][0].pcolormesh(q_array,e_array, De, cmap=cmap)\n",
    "axs[0][1].pcolormesh(q_array,e_array, Dq, cmap=cmap)\n",
    "axs[0][2].pcolormesh(q_array,e_array, Da, cmap=cmap)\n",
    "axs[1][0].pcolormesh(q_array,e_array, DE, cmap=cmap)\n",
    "axs[1][1].pcolormesh(q_array,e_array, DJ, cmap=cmap)\n",
    "\n",
    "axs[0][0].set_title(\"dlog$e$/dlog$m$\")\n",
    "axs[0][1].set_title(\"dlog$q$/dlog$m$\")\n",
    "axs[0][2].set_title(\"dlog$a$/dlog$m$\")\n",
    "axs[1][0].set_title(\"dlog$E$/dlog$m$\")\n",
    "axs[1][1].set_title(\"dlog$J$/dlog$m$\")\n",
    "axs[0][0].set_ylabel(\"$e$\")\n",
    "axs[1][0].set_ylabel(\"$e$\")\n",
    "axs[1][0].set_xlabel(\"$q$\")\n",
    "axs[1][1].set_xlabel(\"$q$\")\n",
    "axs[1][2].grid(False)\n",
    "plt.show()"
   ]
  }
 ],
 "metadata": {
  "kernelspec": {
   "display_name": "ruvalli-env",
   "language": "python",
   "name": "python3"
  },
  "language_info": {
   "codemirror_mode": {
    "name": "ipython",
    "version": 3
   },
   "file_extension": ".py",
   "mimetype": "text/x-python",
   "name": "python",
   "nbconvert_exporter": "python",
   "pygments_lexer": "ipython3",
   "version": "3.11.5"
  }
 },
 "nbformat": 4,
 "nbformat_minor": 2
}
